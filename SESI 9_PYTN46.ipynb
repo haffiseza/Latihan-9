{
 "cells": [
  {
   "cell_type": "code",
   "execution_count": 25,
   "metadata": {},
   "outputs": [],
   "source": [
    "import math\n",
    "import statistics\n",
    "\n",
    "import numpy as np\n",
    "import pandas as pd\n",
    "import scipy.stats"
   ]
  },
  {
   "cell_type": "markdown",
   "metadata": {},
   "source": [
    "## Measure of Central Tendency\n",
    "\n",
    "### Mean/Average\n",
    "\n"
   ]
  },
  {
   "cell_type": "code",
   "execution_count": 6,
   "metadata": {},
   "outputs": [
    {
     "name": "stdout",
     "output_type": "stream",
     "text": [
      "[8.0, 1, 2.5, 4, 28.0]\n",
      "[8.0, 1, 2.5, nan, 4, 28.0]\n"
     ]
    }
   ],
   "source": [
    "x = [8., 1, 2.5, 4, 28.]\n",
    "x_with_nan = [8.0, 1, 2.5, math.nan, 4, 28.0]\n",
    "\n",
    "print(x)\n",
    "print(x_with_nan)"
   ]
  },
  {
   "cell_type": "code",
   "execution_count": 12,
   "metadata": {},
   "outputs": [
    {
     "name": "stdout",
     "output_type": "stream",
     "text": [
      "[ 8.   1.   2.5  4.  28. ]\n",
      "[ 8.   1.   2.5  nan  4.  28. ]\n",
      "0     8.0\n",
      "1     1.0\n",
      "2     2.5\n",
      "3     4.0\n",
      "4    28.0\n",
      "dtype: float64\n",
      "0     8.0\n",
      "1     1.0\n",
      "2     2.5\n",
      "3     NaN\n",
      "4     4.0\n",
      "5    28.0\n",
      "dtype: float64\n"
     ]
    }
   ],
   "source": [
    "np_x, np_x_with_nan = np.array(x), np.array(x_with_nan)\n",
    "series_x, series_x_with_nan = pd.Series(x), pd.Series(x_with_nan)\n",
    "\n",
    "print(np_x)\n",
    "print(np_x_with_nan)\n",
    "\n",
    "print(series_x)\n",
    "print(series_x_with_nan)"
   ]
  },
  {
   "cell_type": "code",
   "execution_count": 17,
   "metadata": {},
   "outputs": [
    {
     "name": "stdout",
     "output_type": "stream",
     "text": [
      "mean 8.7\n",
      "mean with statistics: 8.7\n",
      "mean with nan with statistics: nan\n",
      "mean with numpy: 8.7\n",
      "mean with nan with numpy: nan\n",
      "mean with nan with np.nanmean: 8.7\n"
     ]
    }
   ],
   "source": [
    "native_mean = sum(x) / len(x)\n",
    "stats_mean = statistics.mean(x)\n",
    "stats_mean_with_nan = statistics.mean(x_with_nan)\n",
    "np_mean = np.mean(np_x)\n",
    "np_mean_with_nan = np.mean(np_x_with_nan)\n",
    "np_nanmean_with_nan = np.nanmean(np_x_with_nan)\n",
    "\n",
    "print(\"mean\", native_mean)\n",
    "print(\"mean with statistics:\", stats_mean)\n",
    "print(\"mean with nan with statistics:\", stats_mean_with_nan)\n",
    "print(\"mean with numpy:\", np_mean)\n",
    "print(\"mean with nan with numpy:\", np_mean_with_nan)\n",
    "print(\"mean with nan with np.nanmean:\", np_nanmean_with_nan)"
   ]
  },
  {
   "cell_type": "markdown",
   "metadata": {},
   "source": [
    "## Weighted mean "
   ]
  },
  {
   "cell_type": "code",
   "execution_count": 21,
   "metadata": {},
   "outputs": [
    {
     "name": "stdout",
     "output_type": "stream",
     "text": [
      "weight: [0.1, 0.2, 0.3, 0.25, 0.15]\n",
      "x: [8.0, 1, 2.5, 4, 28.0]\n",
      "weighted mean: 6.95\n",
      "weighted mean with numpy: 6.95\n"
     ]
    }
   ],
   "source": [
    "w = [.1, .2, .3, .25, .15]\n",
    "print(\"weight:\", w)\n",
    "print(\"x:\", x)\n",
    "\n",
    "\n",
    "native_weighted_mean = sum([w[i]*x[i] for i in range(len(x))]) / sum(w)\n",
    "np_weighted_mean = np.average(np_x, weights=w)\n",
    "\n",
    "print(\"weighted mean:\", native_weighted_mean)\n",
    "print(\"weighted mean with numpy:\", np_weighted_mean)"
   ]
  },
  {
   "cell_type": "markdown",
   "metadata": {},
   "source": [
    "## Harmonic Mean "
   ]
  },
  {
   "cell_type": "code",
   "execution_count": 26,
   "metadata": {},
   "outputs": [
    {
     "name": "stdout",
     "output_type": "stream",
     "text": [
      "x: [8.0, 1, 2.5, 4, 28.0]\n",
      "harmonic mean: 2.7613412228796843\n",
      "harmonic mean with statistics: 2.7613412228796843\n",
      "harmonic mean with scipy: 2.7613412228796843\n"
     ]
    }
   ],
   "source": [
    "print(\"x:\", x)\n",
    "\n",
    "native_harmonic_mean = len(x) / sum([1/item for item in x])\n",
    "stats_harmonic_mean = statistics.harmonic_mean(x)\n",
    "scipy_harmonic_mean = scipy.stats.hmean(np_x)\n",
    "\n",
    "print(\"harmonic mean:\", native_harmonic_mean)\n",
    "print(\"harmonic mean with statistics:\", stats_harmonic_mean)\n",
    "print(\"harmonic mean with scipy:\", scipy_harmonic_mean)"
   ]
  },
  {
   "cell_type": "markdown",
   "metadata": {},
   "source": [
    "## Geometric Mean "
   ]
  },
  {
   "cell_type": "code",
   "execution_count": 27,
   "metadata": {},
   "outputs": [
    {
     "name": "stdout",
     "output_type": "stream",
     "text": [
      "x: [8.0, 1, 2.5, 4, 28.0]\n",
      "geometric mean: 1.1571703651884873\n",
      "geometric mean with scipy: 4.67788567485604\n"
     ]
    }
   ],
   "source": [
    "print(\"x:\", x)\n",
    "native_gmean = 1\n",
    "for item in x:\n",
    "    native_gmean *= item\n",
    "    native_gmean **= (1 / len(x))\n",
    "    scipy_gmean = scipy.stats.gmean(np_x)\n",
    "    \n",
    "    \n",
    "native_gmean **= (1 / len(x))\n",
    "print(\"geometric mean:\", native_gmean)\n",
    "print(\"geometric mean with scipy:\", scipy_gmean)"
   ]
  },
  {
   "cell_type": "markdown",
   "metadata": {},
   "source": [
    "## Median "
   ]
  },
  {
   "cell_type": "code",
   "execution_count": 57,
   "metadata": {},
   "outputs": [
    {
     "name": "stdout",
     "output_type": "stream",
     "text": [
      "x: [8.0, 1, 2.5, 4, 28.0]\n",
      "sorted x: [1, 2.5, 4, 8.0, 28.0]\n",
      "new x: [1, 2.5, 4, 8.0]\n",
      "median: 3.25\n",
      "median with statistics: 3.25\n",
      "median low with statistics: 2.5\n",
      "median high with statistics: 4\n",
      "median with numpy: 3.25\n"
     ]
    }
   ],
   "source": [
    "print(\"x:\", x)\n",
    "print(\"sorted x:\", sorted(x))\n",
    "\n",
    "new_x = x[:-1].copy()\n",
    "print(\"new x:\", sorted(new_x))\n",
    "n = len(new_x)\n",
    "if n % 2:\n",
    "    # add n \n",
    "    native_median = sorted(new_x)[round(5. * (n-1))]\n",
    "else: \n",
    "    # even n \n",
    "    sorted_x, med_index = sorted(new_x), round(.5 * n)\n",
    "    native_median = (sorted_x[med_index - 1] + sorted_x[med_index]) / 2\n",
    "stats_median = statistics.median(new_x)\n",
    "stats_median_low = statistics.median_low(new_x)\n",
    "stats_median_high = statistics.median_high(new_x)\n",
    "np_median = np.median(new_x)\n",
    "    \n",
    "print(\"median:\", native_median)\n",
    "print(\"median with statistics:\", stats_median)\n",
    "print(\"median low with statistics:\", stats_median_low)\n",
    "print(\"median high with statistics:\", stats_median_high)\n",
    "print(\"median with numpy:\", np_median)"
   ]
  },
  {
   "cell_type": "markdown",
   "metadata": {},
   "source": [
    "## Mode"
   ]
  },
  {
   "cell_type": "code",
   "execution_count": 52,
   "metadata": {},
   "outputs": [
    {
     "data": {
      "text/plain": [
       "(3, 12)"
      ]
     },
     "execution_count": 52,
     "metadata": {},
     "output_type": "execute_result"
    }
   ],
   "source": [
    "max([(v.count(item), item) for item in set(u)])"
   ]
  },
  {
   "cell_type": "code",
   "execution_count": 56,
   "metadata": {},
   "outputs": [
    {
     "name": "stdout",
     "output_type": "stream",
     "text": [
      "[2, 3, 2, 8, 12]\n",
      "[12, 15, 12, 15, 21, 15, 12]\n",
      "mode: 12\n",
      "mode with statistics: 2\n",
      "mode with scipy: 2 (2)\n"
     ]
    }
   ],
   "source": [
    "u = [2, 3, 2, 8, 12]\n",
    "v = [12, 15, 12, 15, 21, 15, 12]\n",
    "\n",
    "native_mode = max([(v.count(item), item) for item in set(u)])[1]\n",
    "stats_mode = statistics.mode(u)\n",
    "scipy_mode = scipy.stats.mode(u)\n",
    "\n",
    "print(u)\n",
    "print(v)\n",
    "print(\"mode:\", native_mode)\n",
    "print(\"mode with statistics:\", stats_mode)\n",
    "print(\"mode with scipy:\", scipy_mode.mode[0], f\"({scipy_mode.count[0]})\")"
   ]
  },
  {
   "cell_type": "markdown",
   "metadata": {},
   "source": [
    "## Measures of Spread/Variability"
   ]
  },
  {
   "cell_type": "markdown",
   "metadata": {},
   "source": [
    "### Variance"
   ]
  },
  {
   "cell_type": "code",
   "execution_count": 70,
   "metadata": {},
   "outputs": [
    {
     "name": "stdout",
     "output_type": "stream",
     "text": [
      "x: [8.0, 1, 2.5, 4, 28.0]\n",
      "mean: 8.7\n",
      "variance: 123.19999999999999\n",
      "variance with statistics: 123.2\n",
      "variance with numpy: 123.19999999999999\n",
      "variance with pandas seris: 123.19999999999999\n"
     ]
    }
   ],
   "source": [
    "print(\"x:\", x)\n",
    "print(\"mean:\", native_mean)\n",
    "\n",
    "native_var = sum([(item - native_mean)**2 for item in x]) / (len(x) -1)\n",
    "stats_var = statistics.variance(x)\n",
    "np_var = np.var(np_x, ddof=1)\n",
    "\n",
    "print(\"variance:\", native_var)\n",
    "print(\"variance with statistics:\", stats_var)\n",
    "print(\"variance with numpy:\", np_var)\n",
    "print(\"variance with pandas seris:\", series_x.var())"
   ]
  },
  {
   "cell_type": "markdown",
   "metadata": {},
   "source": [
    "## Standard Deviattion"
   ]
  },
  {
   "cell_type": "code",
   "execution_count": 71,
   "metadata": {},
   "outputs": [
    {
     "name": "stdout",
     "output_type": "stream",
     "text": [
      "standard dev: 11.099549540409285\n",
      "stdev with statistics: 11.099549540409287\n",
      "stdev with numpy: 11.099549540409285\n",
      "stdev with pandas series: 11.099549540409285\n"
     ]
    }
   ],
   "source": [
    "native_std = native_var ** .5\n",
    "stats_std = statistics.stdev(x)\n",
    "np_std = np.std(np_x, ddof=1)\n",
    "\n",
    "print(\"standard dev:\", native_std)\n",
    "print(\"stdev with statistics:\", stats_std)\n",
    "print(\"stdev with numpy:\", np_std)\n",
    "print(\"stdev with pandas series:\", series_x.std())"
   ]
  },
  {
   "cell_type": "markdown",
   "metadata": {},
   "source": [
    "## Skewness"
   ]
  },
  {
   "cell_type": "code",
   "execution_count": 75,
   "metadata": {},
   "outputs": [
    {
     "name": "stdout",
     "output_type": "stream",
     "text": [
      "x: [8.0, 1, 2.5, 4, 28.0]\n",
      "skewness with scipy: 1.9470432273905927\n",
      "skewness with pandas series: 1.9470432273905924\n"
     ]
    }
   ],
   "source": [
    "print(\"x:\", x)\n",
    "\n",
    "scipy_skew = scipy.stats.skew(np_x, bias=False)\n",
    "\n",
    "print(\"skewness with scipy:\", scipy_skew)\n",
    "print(\"skewness with pandas series:\", series_x.skew())"
   ]
  },
  {
   "cell_type": "markdown",
   "metadata": {},
   "source": [
    "## Quantiles,Percentiles, Quartiles"
   ]
  },
  {
   "cell_type": "code",
   "execution_count": 82,
   "metadata": {},
   "outputs": [
    {
     "name": "stdout",
     "output_type": "stream",
     "text": [
      "x: [-5.0, -1.1, 0.1, 2.0, 8.0, 12.8, 21.0, 25.8, 41.0]\n",
      "[0.1, 8.0, 21.0]\n",
      "[8.0]\n",
      "[ 0.1  8.  21. ]\n",
      "[ 0.1  8.  21. ]\n",
      "8.0\n"
     ]
    }
   ],
   "source": [
    "x = [-5., -1.1, .1, 2., 8., 12.8, 21., 25.8, 41.]\n",
    "print(\"x:\", x)\n",
    "\n",
    "print(statistics.quantiles(x, n=4, method=\"inclusive\"))\n",
    "print(statistics.quantiles(x, n=2, method=\"inclusive\"))\n",
    "\n",
    "print(np.percentile(x, [25, 50, 75])) # quartiles\n",
    "print(np.quantile(x, [.25, .5, .75])) #quantiles\n",
    "print(np.median(x))"
   ]
  },
  {
   "cell_type": "markdown",
   "metadata": {},
   "source": [
    "## Range"
   ]
  },
  {
   "cell_type": "code",
   "execution_count": 84,
   "metadata": {},
   "outputs": [
    {
     "name": "stdout",
     "output_type": "stream",
     "text": [
      "max: 41.0\n",
      "min: -5.0\n",
      "46.0\n",
      "46.0\n"
     ]
    }
   ],
   "source": [
    "np_x = np.array(x)\n",
    "\n",
    "print(\"max:\", np_x.max())\n",
    "print(\"min:\", np_x.min())\n",
    "print(np.ptp(x))\n",
    "print(np_x.max() - np_x.min())"
   ]
  },
  {
   "cell_type": "code",
   "execution_count": null,
   "metadata": {},
   "outputs": [],
   "source": []
  }
 ],
 "metadata": {
  "kernelspec": {
   "display_name": "Python 3",
   "language": "python",
   "name": "python3"
  },
  "language_info": {
   "codemirror_mode": {
    "name": "ipython",
    "version": 3
   },
   "file_extension": ".py",
   "mimetype": "text/x-python",
   "name": "python",
   "nbconvert_exporter": "python",
   "pygments_lexer": "ipython3",
   "version": "3.8.5"
  }
 },
 "nbformat": 4,
 "nbformat_minor": 4
}
